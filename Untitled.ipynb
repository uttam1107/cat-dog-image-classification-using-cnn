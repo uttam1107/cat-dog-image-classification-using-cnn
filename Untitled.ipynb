{
 "cells": [
  {
   "cell_type": "code",
   "execution_count": 1,
   "id": "8263587a",
   "metadata": {},
   "outputs": [],
   "source": [
    "#prediction of dog and cats from 2000 random images using CNN"
   ]
  },
  {
   "cell_type": "code",
   "execution_count": 2,
   "id": "e767f7b7",
   "metadata": {},
   "outputs": [],
   "source": [
    "#WE will initalize cnn"
   ]
  },
  {
   "cell_type": "code",
   "execution_count": 3,
   "id": "0277f1e5",
   "metadata": {},
   "outputs": [],
   "source": [
    "#1 convolution"
   ]
  },
  {
   "cell_type": "code",
   "execution_count": 1,
   "id": "798a6e82",
   "metadata": {},
   "outputs": [],
   "source": [
    "import tensorflow as tf\n",
    "from tensorflow.keras.preprocessing.image import ImageDataGenerator"
   ]
  },
  {
   "cell_type": "code",
   "execution_count": 2,
   "id": "11205f0e",
   "metadata": {},
   "outputs": [
    {
     "data": {
      "text/plain": [
       "'2.3.0'"
      ]
     },
     "execution_count": 2,
     "metadata": {},
     "output_type": "execute_result"
    }
   ],
   "source": [
    "tf.__version__"
   ]
  },
  {
   "cell_type": "code",
   "execution_count": 3,
   "id": "3311cd80",
   "metadata": {},
   "outputs": [],
   "source": [
    "# data preprocessing"
   ]
  },
  {
   "cell_type": "code",
   "execution_count": 4,
   "id": "de1899ca",
   "metadata": {},
   "outputs": [],
   "source": [
    "#preprocessing training set(feature scaling using'rescale',image transformation by zoom and horizontal flip)"
   ]
  },
  {
   "cell_type": "code",
   "execution_count": 5,
   "id": "9b283bf7",
   "metadata": {},
   "outputs": [],
   "source": [
    "train_datagen = ImageDataGenerator(rescale = 1./255,\n",
    "                                   shear_range = 0.2,\n",
    "                                   zoom_range = 0.2,\n",
    "                                   horizontal_flip = True)\n"
   ]
  },
  {
   "cell_type": "code",
   "execution_count": null,
   "id": "2a459ec3",
   "metadata": {},
   "outputs": [],
   "source": [
    "#now import training image from the directory\"dataset---->training_set\" ,initalize batch size for taining"
   ]
  },
  {
   "cell_type": "code",
   "execution_count": 6,
   "id": "192f2e7e",
   "metadata": {},
   "outputs": [
    {
     "name": "stdout",
     "output_type": "stream",
     "text": [
      "Found 8000 images belonging to 2 classes.\n"
     ]
    }
   ],
   "source": [
    "training_set = train_datagen.flow_from_directory('dataset/training_set',\n",
    "                                                 target_size = (64, 64),\n",
    "                                                 batch_size = 32,\n",
    "                                                 class_mode = 'binary')"
   ]
  },
  {
   "cell_type": "code",
   "execution_count": 7,
   "id": "208cddc9",
   "metadata": {},
   "outputs": [],
   "source": [
    "# preprocessing the test set"
   ]
  },
  {
   "cell_type": "code",
   "execution_count": 8,
   "id": "711e09f0",
   "metadata": {},
   "outputs": [
    {
     "name": "stdout",
     "output_type": "stream",
     "text": [
      "Found 2000 images belonging to 2 classes.\n"
     ]
    }
   ],
   "source": [
    "test_datagen = ImageDataGenerator(rescale = 1./255)\n",
    "test_set = test_datagen.flow_from_directory('dataset/test_set',\n",
    "                                            target_size = (64, 64),\n",
    "                                            batch_size = 32,\n",
    "                                            class_mode = 'binary')"
   ]
  },
  {
   "cell_type": "code",
   "execution_count": 9,
   "id": "269fd85c",
   "metadata": {},
   "outputs": [],
   "source": [
    "#2 buid CNN"
   ]
  },
  {
   "cell_type": "code",
   "execution_count": 10,
   "id": "6a3e4a1d",
   "metadata": {},
   "outputs": [],
   "source": [
    "#initialize cnn\n",
    "cnn = tf.keras.models.Sequential()"
   ]
  },
  {
   "cell_type": "code",
   "execution_count": 11,
   "id": "1b65a8a0",
   "metadata": {},
   "outputs": [],
   "source": [
    "#Convolution layer being added"
   ]
  },
  {
   "cell_type": "code",
   "execution_count": 12,
   "id": "1bad12cc",
   "metadata": {},
   "outputs": [],
   "source": [
    "cnn.add(tf.keras.layers.Conv2D(filters=32, kernel_size=3, activation='relu', input_shape=[64, 64, 3]))"
   ]
  },
  {
   "cell_type": "code",
   "execution_count": 13,
   "id": "23ab0961",
   "metadata": {},
   "outputs": [],
   "source": [
    "#pooling layer"
   ]
  },
  {
   "cell_type": "code",
   "execution_count": 15,
   "id": "2f3b4b4b",
   "metadata": {},
   "outputs": [],
   "source": [
    "cnn.add(tf.keras.layers.MaxPool2D(pool_size=2, strides=2))"
   ]
  },
  {
   "cell_type": "code",
   "execution_count": 16,
   "id": "28ce164b",
   "metadata": {},
   "outputs": [],
   "source": [
    "#(2nd convolution layer to be added)"
   ]
  },
  {
   "cell_type": "code",
   "execution_count": 17,
   "id": "b493d79b",
   "metadata": {},
   "outputs": [],
   "source": [
    "cnn.add(tf.keras.layers.Conv2D(filters=32, kernel_size=3, activation='relu'))\n",
    "cnn.add(tf.keras.layers.MaxPool2D(pool_size=2, strides=2))"
   ]
  },
  {
   "cell_type": "code",
   "execution_count": 18,
   "id": "fb51e39f",
   "metadata": {},
   "outputs": [],
   "source": [
    "#3 flattening"
   ]
  },
  {
   "cell_type": "code",
   "execution_count": 19,
   "id": "19a53aeb",
   "metadata": {},
   "outputs": [],
   "source": [
    "cnn.add(tf.keras.layers.Flatten())"
   ]
  },
  {
   "cell_type": "code",
   "execution_count": 20,
   "id": "47492ecc",
   "metadata": {},
   "outputs": [],
   "source": [
    "#full connection"
   ]
  },
  {
   "cell_type": "code",
   "execution_count": 21,
   "id": "e3946cf0",
   "metadata": {},
   "outputs": [],
   "source": [
    "cnn.add(tf.keras.layers.Dense(units=128, activation='relu'))"
   ]
  },
  {
   "cell_type": "code",
   "execution_count": 22,
   "id": "a78c9543",
   "metadata": {},
   "outputs": [],
   "source": [
    "#Output Layer"
   ]
  },
  {
   "cell_type": "code",
   "execution_count": 23,
   "id": "5df2676e",
   "metadata": {},
   "outputs": [],
   "source": [
    "cnn.add(tf.keras.layers.Dense(units=1, activation='sigmoid'))"
   ]
  },
  {
   "cell_type": "code",
   "execution_count": 24,
   "id": "d46096fc",
   "metadata": {},
   "outputs": [],
   "source": [
    "#Training the CNN"
   ]
  },
  {
   "cell_type": "code",
   "execution_count": 26,
   "id": "a95cc289",
   "metadata": {},
   "outputs": [],
   "source": [
    "#Compiling the CNN\n",
    "cnn.compile(optimizer = 'adam', loss = 'binary_crossentropy', metrics = ['accuracy'])"
   ]
  },
  {
   "cell_type": "code",
   "execution_count": 27,
   "id": "f7fa6518",
   "metadata": {},
   "outputs": [],
   "source": [
    "#Training the CNN on the Training set and evaluating it on the Test set"
   ]
  },
  {
   "cell_type": "code",
   "execution_count": 28,
   "id": "5d4f6311",
   "metadata": {},
   "outputs": [
    {
     "name": "stdout",
     "output_type": "stream",
     "text": [
      "Epoch 1/25\n",
      "250/250 [==============================] - 74s 297ms/step - loss: 0.6610 - accuracy: 0.5971 - val_loss: 0.8044 - val_accuracy: 0.5205\n",
      "Epoch 2/25\n",
      "250/250 [==============================] - 33s 131ms/step - loss: 0.5842 - accuracy: 0.6933 - val_loss: 0.6254 - val_accuracy: 0.6700\n",
      "Epoch 3/25\n",
      "250/250 [==============================] - 32s 127ms/step - loss: 0.5485 - accuracy: 0.7221 - val_loss: 0.5488 - val_accuracy: 0.7235\n",
      "Epoch 4/25\n",
      "250/250 [==============================] - 33s 134ms/step - loss: 0.5254 - accuracy: 0.7370 - val_loss: 0.4952 - val_accuracy: 0.7630\n",
      "Epoch 5/25\n",
      "250/250 [==============================] - 34s 135ms/step - loss: 0.5066 - accuracy: 0.7521 - val_loss: 0.4852 - val_accuracy: 0.7565\n",
      "Epoch 6/25\n",
      "250/250 [==============================] - 32s 130ms/step - loss: 0.4935 - accuracy: 0.7609 - val_loss: 0.4900 - val_accuracy: 0.7755\n",
      "Epoch 7/25\n",
      "250/250 [==============================] - 33s 134ms/step - loss: 0.4816 - accuracy: 0.7688 - val_loss: 0.6026 - val_accuracy: 0.7090\n",
      "Epoch 8/25\n",
      "250/250 [==============================] - 34s 135ms/step - loss: 0.4699 - accuracy: 0.7745 - val_loss: 0.4798 - val_accuracy: 0.7785\n",
      "Epoch 9/25\n",
      "250/250 [==============================] - 33s 134ms/step - loss: 0.4662 - accuracy: 0.7789 - val_loss: 0.4793 - val_accuracy: 0.7790\n",
      "Epoch 10/25\n",
      "250/250 [==============================] - 34s 135ms/step - loss: 0.4537 - accuracy: 0.7850 - val_loss: 0.4446 - val_accuracy: 0.7875\n",
      "Epoch 11/25\n",
      "250/250 [==============================] - 34s 135ms/step - loss: 0.4310 - accuracy: 0.7956 - val_loss: 0.4479 - val_accuracy: 0.7945\n",
      "Epoch 12/25\n",
      "250/250 [==============================] - 34s 135ms/step - loss: 0.4381 - accuracy: 0.7955 - val_loss: 0.4752 - val_accuracy: 0.7790\n",
      "Epoch 13/25\n",
      "250/250 [==============================] - 33s 132ms/step - loss: 0.4122 - accuracy: 0.8117 - val_loss: 0.5060 - val_accuracy: 0.7670\n",
      "Epoch 14/25\n",
      "250/250 [==============================] - 32s 129ms/step - loss: 0.4185 - accuracy: 0.8046 - val_loss: 0.4496 - val_accuracy: 0.7965\n",
      "Epoch 15/25\n",
      "250/250 [==============================] - 37s 148ms/step - loss: 0.3990 - accuracy: 0.8198 - val_loss: 0.4329 - val_accuracy: 0.8040\n",
      "Epoch 16/25\n",
      "250/250 [==============================] - 32s 128ms/step - loss: 0.3902 - accuracy: 0.8209 - val_loss: 0.4824 - val_accuracy: 0.7800\n",
      "Epoch 17/25\n",
      "250/250 [==============================] - 32s 129ms/step - loss: 0.3892 - accuracy: 0.8259 - val_loss: 0.4340 - val_accuracy: 0.7995\n",
      "Epoch 18/25\n",
      "250/250 [==============================] - 38s 151ms/step - loss: 0.3818 - accuracy: 0.8249 - val_loss: 0.4579 - val_accuracy: 0.8045\n",
      "Epoch 19/25\n",
      "250/250 [==============================] - 35s 141ms/step - loss: 0.3678 - accuracy: 0.8330 - val_loss: 0.4411 - val_accuracy: 0.7990\n",
      "Epoch 20/25\n",
      "250/250 [==============================] - 36s 142ms/step - loss: 0.3628 - accuracy: 0.8336 - val_loss: 0.4846 - val_accuracy: 0.7925\n",
      "Epoch 21/25\n",
      "250/250 [==============================] - 35s 142ms/step - loss: 0.3606 - accuracy: 0.8361 - val_loss: 0.4077 - val_accuracy: 0.8215\n",
      "Epoch 22/25\n",
      "250/250 [==============================] - 33s 130ms/step - loss: 0.3446 - accuracy: 0.8471 - val_loss: 0.4420 - val_accuracy: 0.8120\n",
      "Epoch 23/25\n",
      "250/250 [==============================] - 32s 128ms/step - loss: 0.3476 - accuracy: 0.8441 - val_loss: 0.4118 - val_accuracy: 0.8215\n",
      "Epoch 24/25\n",
      "250/250 [==============================] - 34s 137ms/step - loss: 0.3351 - accuracy: 0.8489 - val_loss: 0.4571 - val_accuracy: 0.8020\n",
      "Epoch 25/25\n",
      "250/250 [==============================] - 34s 136ms/step - loss: 0.3220 - accuracy: 0.8605 - val_loss: 0.4042 - val_accuracy: 0.8240\n"
     ]
    },
    {
     "data": {
      "text/plain": [
       "<tensorflow.python.keras.callbacks.History at 0x22e34e8a520>"
      ]
     },
     "execution_count": 28,
     "metadata": {},
     "output_type": "execute_result"
    }
   ],
   "source": [
    "cnn.fit(x = training_set, validation_data = test_set, epochs = 25)"
   ]
  },
  {
   "cell_type": "code",
   "execution_count": 32,
   "id": "7ee13dc1",
   "metadata": {},
   "outputs": [],
   "source": [
    "#Part 4 - Making a single prediction\n",
    "import numpy as np\n",
    "from tensorflow.keras.preprocessing import image\n",
    "test_image = image.load_img('dataset/single_prediction/cat_or_dog_1.jpg', target_size = (64, 64))\n",
    "test_image = image.img_to_array(test_image)\n",
    "test_image = np.expand_dims(test_image, axis = 0)\n",
    "result = cnn.predict(test_image)\n",
    "training_set.class_indices\n",
    "if result[0][0] == 1:\n",
    "  prediction = 'dog'\n",
    "else:\n",
    "  prediction = 'cat'"
   ]
  },
  {
   "cell_type": "code",
   "execution_count": 33,
   "id": "2b34b757",
   "metadata": {},
   "outputs": [
    {
     "name": "stdout",
     "output_type": "stream",
     "text": [
      "dog\n"
     ]
    }
   ],
   "source": [
    "print(prediction)"
   ]
  },
  {
   "cell_type": "code",
   "execution_count": null,
   "id": "16e8e588",
   "metadata": {},
   "outputs": [],
   "source": []
  }
 ],
 "metadata": {
  "kernelspec": {
   "display_name": "Python 3",
   "language": "python",
   "name": "python3"
  },
  "language_info": {
   "codemirror_mode": {
    "name": "ipython",
    "version": 3
   },
   "file_extension": ".py",
   "mimetype": "text/x-python",
   "name": "python",
   "nbconvert_exporter": "python",
   "pygments_lexer": "ipython3",
   "version": "3.8.8"
  }
 },
 "nbformat": 4,
 "nbformat_minor": 5
}
